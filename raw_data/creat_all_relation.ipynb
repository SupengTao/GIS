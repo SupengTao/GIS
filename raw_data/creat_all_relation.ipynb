{
 "cells": [
  {
   "cell_type": "code",
   "execution_count": 1,
   "metadata": {},
   "outputs": [],
   "source": [
    "import json\n"
   ]
  },
  {
   "cell_type": "code",
   "execution_count": 4,
   "metadata": {},
   "outputs": [],
   "source": [
    "river_data_json = json.loads(json.load(open('river_data.json')))\n",
    "school_data_json = json.loads(json.load(open('school_data.json')))\n",
    "spot_data_json = json.loads(json.load(open('spot_data.json')))\n",
    "city_data_json = json.loads(json.load(open('city_data.json')))"
   ]
  },
  {
   "cell_type": "code",
   "execution_count": 5,
   "metadata": {},
   "outputs": [
    {
     "data": {
      "text/plain": [
       "{'中文名称': '黄河',\n",
       " '主要支流': '汾河、洮河、渭河等',\n",
       " '别称': '中国母亲河、河水、浊河',\n",
       " '发源地': '青藏高原巴颜喀拉山脉',\n",
       " '地理位置': '中国北部',\n",
       " '平均流量': '2571立方米/秒',\n",
       " '所属水系': '黄河水系',\n",
       " '河流面积': '约752443平方公里',\n",
       " '河长': '约5464公里',\n",
       " '沿岸重要城市': '兰州、银川、郑州、济南、东营',\n",
       " '注入海洋': '渤海',\n",
       " '流经地区': '青海、四川、甘肃、宁夏、内蒙古、陕西、山西、河南、山东',\n",
       " '英文名称': 'Yellow River'}"
      ]
     },
     "execution_count": 5,
     "metadata": {},
     "output_type": "execute_result"
    }
   ],
   "source": [
    "river_data_json[0]"
   ]
  },
  {
   "cell_type": "code",
   "execution_count": 6,
   "metadata": {},
   "outputs": [
    {
     "data": {
      "text/plain": [
       "{'专职院士': '中国科学院院士51人\\n中国工程院院士37人',\n",
       " '中文名': '清华大学',\n",
       " '主管部门': '中华人民共和国教育部',\n",
       " '主要奖项': '国家级科技三大奖共529项（截至2016年底）\\n国家级教学成果奖共79项（截至2016年底）\\n全国优秀博士论文110篇（截至2013年底）',\n",
       " '创办时间': '1911年',\n",
       " '博士后': '科研流动站48个\\n科研工作站3个',\n",
       " '博士点': '学术学位授权一级学科49个\\n学术学位授权二级学科1个\\n专业学位授权类别2个',\n",
       " '国家重点学科': '一级学科国家重点学科22个\\n二级学科国家重点学科15个',\n",
       " '地址': '北京市海淀区清华大学',\n",
       " '外文名': 'Tsinghua University',\n",
       " '属性': '211工程（1995年入选）\\n985工程（1998年入选）\\n世界一流大学和一流学科（2017年入选）\\n基础学科拔尖学生培养试验计划（2009年入选）\\n高等学校创新能力提升计划（2013年入选）\\n\\n高等学校学科创新引智计划（2006年入选）\\n全国重点大学\\n收起',\n",
       " '本科专业': '78个',\n",
       " '校庆日': '每年4月最后一个星期日',\n",
       " '校歌': '《清华学校校歌》',\n",
       " '校训': '自强不息，厚德载物',\n",
       " '现任领导': '校长：邱勇\\n党委书记：陈旭',\n",
       " '知名校友': '习近平，胡锦涛，杨振宁，邓稼先等',\n",
       " '硕士点': '学术学位授权一级学科57个\\n学术学位授权二级学科2个\\n专业学位授权类别18个',\n",
       " '简称': '清华',\n",
       " '类别': '公立大学',\n",
       " '类型': '综合',\n",
       " '院校代码': '10003',\n",
       " '院系设置': '20个学院、58个系'}"
      ]
     },
     "execution_count": 6,
     "metadata": {},
     "output_type": "execute_result"
    }
   ],
   "source": [
    "school_data_json[0]"
   ]
  },
  {
   "cell_type": "code",
   "execution_count": null,
   "metadata": {},
   "outputs": [],
   "source": []
  }
 ],
 "metadata": {
  "kernelspec": {
   "display_name": "Python 3",
   "language": "python",
   "name": "python3"
  },
  "language_info": {
   "codemirror_mode": {
    "name": "ipython",
    "version": 3
   },
   "file_extension": ".py",
   "mimetype": "text/x-python",
   "name": "python",
   "nbconvert_exporter": "python",
   "pygments_lexer": "ipython3",
   "version": "3.5.2"
  }
 },
 "nbformat": 4,
 "nbformat_minor": 2
}
